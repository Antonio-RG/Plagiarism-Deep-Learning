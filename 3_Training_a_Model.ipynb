{
 "cells": [
  {
   "cell_type": "markdown",
   "metadata": {},
   "source": [
    "# Plagiarism Detection Model\n",
    "\n",
    "Now that you've created training and test data, you are ready to define and train a model. Your goal in this notebook, will be to train a binary classification model that learns to label an answer file as either plagiarized or not, based on the features you provide the model.\n",
    "\n",
    "This task will be broken down into a few discrete steps:\n",
    "\n",
    "* Upload your data to S3.\n",
    "* Define a binary classification model and a training script.\n",
    "* Train your model and deploy it.\n",
    "* Evaluate your deployed classifier and answer some questions about your approach.\n",
    "\n",
    "To complete this notebook, you'll have to complete all given exercises and answer all the questions in this notebook.\n",
    "> All your tasks will be clearly labeled **EXERCISE** and questions as **QUESTION**.\n",
    "\n",
    "It will be up to you to explore different classification models and decide on a model that gives you the best performance for this dataset.\n",
    "\n",
    "---"
   ]
  },
  {
   "cell_type": "markdown",
   "metadata": {},
   "source": [
    "## Load Data to S3\n",
    "\n",
    "In the last notebook, you should have created two files: a `training.csv` and `test.csv` file with the features and class labels for the given corpus of plagiarized/non-plagiarized text data. \n",
    "\n",
    ">The below cells load in some AWS SageMaker libraries and creates a default bucket. After creating this bucket, you can upload your locally stored data to S3.\n",
    "\n",
    "Save your train and test `.csv` feature files, locally. To do this you can run the second notebook \"2_Plagiarism_Feature_Engineering\" in SageMaker or you can manually upload your files to this notebook using the upload icon in Jupyter Lab. Then you can upload local files to S3 by using `sagemaker_session.upload_data` and pointing directly to where the training data is saved."
   ]
  },
  {
   "cell_type": "code",
   "execution_count": 1,
   "metadata": {},
   "outputs": [],
   "source": [
    "import pandas as pd\n",
    "import boto3\n",
    "import sagemaker"
   ]
  },
  {
   "cell_type": "code",
   "execution_count": 2,
   "metadata": {},
   "outputs": [],
   "source": [
    "\"\"\"\n",
    "DON'T MODIFY ANYTHING IN THIS CELL THAT IS BELOW THIS LINE\n",
    "\"\"\"\n",
    "# session and role\n",
    "sagemaker_session = sagemaker.Session()\n",
    "role = sagemaker.get_execution_role()\n",
    "\n",
    "# create an S3 bucket\n",
    "bucket = sagemaker_session.default_bucket()"
   ]
  },
  {
   "cell_type": "markdown",
   "metadata": {},
   "source": [
    "## EXERCISE: Upload your training data to S3\n",
    "\n",
    "Specify the `data_dir` where you've saved your `train.csv` file. Decide on a descriptive `prefix` that defines where your data will be uploaded in the default S3 bucket. Finally, create a pointer to your training data by calling `sagemaker_session.upload_data` and passing in the required parameters. It may help to look at the [Session documentation](https://sagemaker.readthedocs.io/en/stable/session.html#sagemaker.session.Session.upload_data) or previous SageMaker code examples.\n",
    "\n",
    "You are expected to upload your entire directory. Later, the training script will only access the `train.csv` file."
   ]
  },
  {
   "cell_type": "code",
   "execution_count": 3,
   "metadata": {},
   "outputs": [
    {
     "data": {
      "text/plain": [
       "'s3://sagemaker-us-east-2-278383315865/plagiarism_classification_project'"
      ]
     },
     "execution_count": 3,
     "metadata": {},
     "output_type": "execute_result"
    }
   ],
   "source": [
    "# should be the name of directory you created to save your features data\n",
    "data_dir = 'plagiarism_data'\n",
    "\n",
    "# set prefix, a descriptive name for a directory  \n",
    "prefix = 'plagiarism_classification_project'\n",
    "\n",
    "# upload all data to S3\n",
    "sagemaker_session.upload_data(path=data_dir, bucket=bucket, key_prefix=prefix)"
   ]
  },
  {
   "cell_type": "markdown",
   "metadata": {},
   "source": [
    "### Test cell\n",
    "\n",
    "Test that your data has been successfully uploaded. The below cell prints out the items in your S3 bucket and will throw an error if it is empty. You should see the contents of your `data_dir` and perhaps some checkpoints. If you see any other files listed, then you may have some old model files that you can delete via the S3 console (though, additional files shouldn't affect the performance of model developed in this notebook)."
   ]
  },
  {
   "cell_type": "code",
   "execution_count": 4,
   "metadata": {},
   "outputs": [
    {
     "name": "stdout",
     "output_type": "stream",
     "text": [
      "plagiarism_classification_project/pytorch-training-2020-06-24-17-05-08-071/debug-output/claim.smd\n",
      "plagiarism_classification_project/pytorch-training-2020-06-24-17-05-08-071/debug-output/collections/000000000/worker_0_collections.json\n",
      "plagiarism_classification_project/pytorch-training-2020-06-24-17-05-08-071/debug-output/events/000000000000/000000000000_worker_0.tfevents\n",
      "plagiarism_classification_project/pytorch-training-2020-06-24-17-05-08-071/debug-output/index/000000000/000000000000_worker_0.json\n",
      "plagiarism_classification_project/pytorch-training-2020-06-24-17-05-08-071/debug-output/training_job_end.ts\n",
      "plagiarism_classification_project/pytorch-training-2020-06-24-17-05-08-071/output/model.tar.gz\n",
      "plagiarism_classification_project/test.csv\n",
      "plagiarism_classification_project/train.csv\n",
      "pytorch-inference-2020-06-24-00-20-36-997/model.tar.gz\n",
      "pytorch-inference-2020-06-24-00-20-59-201/model.tar.gz\n",
      "pytorch-inference-2020-06-24-16-40-46-098/model.tar.gz\n",
      "pytorch-inference-2020-06-24-17-09-45-730/model.tar.gz\n",
      "pytorch-training-2020-06-23-23-29-19-372/source/sourcedir.tar.gz\n",
      "pytorch-training-2020-06-23-23-33-47-923/source/sourcedir.tar.gz\n",
      "pytorch-training-2020-06-23-23-38-47-553/source/sourcedir.tar.gz\n",
      "pytorch-training-2020-06-23-23-46-59-991/source/sourcedir.tar.gz\n",
      "pytorch-training-2020-06-23-23-54-15-733/source/sourcedir.tar.gz\n",
      "pytorch-training-2020-06-23-23-58-52-947/source/sourcedir.tar.gz\n",
      "pytorch-training-2020-06-24-00-03-33-509/debug-output/collections/000000000/worker_0_collections.json\n",
      "pytorch-training-2020-06-24-00-03-33-509/debug-output/events/000000000000/000000000000_worker_0.tfevents\n",
      "pytorch-training-2020-06-24-00-03-33-509/source/sourcedir.tar.gz\n",
      "pytorch-training-2020-06-24-00-07-59-931/debug-output/claim.smd\n",
      "pytorch-training-2020-06-24-00-07-59-931/debug-output/collections/000000000/worker_0_collections.json\n",
      "pytorch-training-2020-06-24-00-07-59-931/debug-output/events/000000000000/000000000000_worker_0.tfevents\n",
      "pytorch-training-2020-06-24-00-07-59-931/debug-output/events/000000000500/000000000500_worker_0.tfevents\n",
      "pytorch-training-2020-06-24-00-07-59-931/debug-output/index/000000000/000000000000_worker_0.json\n",
      "pytorch-training-2020-06-24-00-07-59-931/debug-output/index/000000000/000000000500_worker_0.json\n",
      "pytorch-training-2020-06-24-00-07-59-931/debug-output/training_job_end.ts\n",
      "pytorch-training-2020-06-24-00-07-59-931/output/model.tar.gz\n",
      "pytorch-training-2020-06-24-00-07-59-931/source/sourcedir.tar.gz\n",
      "pytorch-training-2020-06-24-00-12-42-312/source/sourcedir.tar.gz\n",
      "pytorch-training-2020-06-24-16-36-09-567/source/sourcedir.tar.gz\n",
      "pytorch-training-2020-06-24-17-05-08-071/source/sourcedir.tar.gz\n",
      "Test passed!\n"
     ]
    }
   ],
   "source": [
    "\"\"\"\n",
    "DON'T MODIFY ANYTHING IN THIS CELL THAT IS BELOW THIS LINE\n",
    "\"\"\"\n",
    "# confirm that data is in S3 bucket\n",
    "empty_check = []\n",
    "for obj in boto3.resource('s3').Bucket(bucket).objects.all():\n",
    "    empty_check.append(obj.key)\n",
    "    print(obj.key)\n",
    "\n",
    "assert len(empty_check) !=0, 'S3 bucket is empty.'\n",
    "print('Test passed!')"
   ]
  },
  {
   "cell_type": "markdown",
   "metadata": {},
   "source": [
    "---\n",
    "\n",
    "# Modeling\n",
    "\n",
    "Now that you've uploaded your training data, it's time to define and train a model!\n",
    "\n",
    "The type of model you create is up to you. For a binary classification task, you can choose to go one of three routes:\n",
    "* Use a built-in classification algorithm, like LinearLearner.\n",
    "* Define a custom Scikit-learn classifier, a comparison of models can be found [here](https://scikit-learn.org/stable/auto_examples/classification/plot_classifier_comparison.html).\n",
    "* Define a custom PyTorch neural network classifier. \n",
    "\n",
    "It will be up to you to test out a variety of models and choose the best one. Your project will be graded on the accuracy of your final model. \n",
    " \n",
    "---\n",
    "\n",
    "## EXERCISE: Complete a training script \n",
    "\n",
    "To implement a custom classifier, you'll need to complete a `train.py` script. You've been given the folders `source_sklearn` and `source_pytorch` which hold starting code for a custom Scikit-learn model and a PyTorch model, respectively. Each directory has a `train.py` training script. To complete this project **you only need to complete one of these scripts**; the script that is responsible for training your final model.\n",
    "\n",
    "A typical training script:\n",
    "* Loads training data from a specified directory\n",
    "* Parses any training & model hyperparameters (ex. nodes in a neural network, training epochs, etc.)\n",
    "* Instantiates a model of your design, with any specified hyperparams\n",
    "* Trains that model \n",
    "* Finally, saves the model so that it can be hosted/deployed, later\n",
    "\n",
    "### Defining and training a model\n",
    "Much of the training script code is provided for you. Almost all of your work will be done in the `if __name__ == '__main__':` section. To complete a `train.py` file, you will:\n",
    "1. Import any extra libraries you need\n",
    "2. Define any additional model training hyperparameters using `parser.add_argument`\n",
    "2. Define a model in the `if __name__ == '__main__':` section\n",
    "3. Train the model in that same section\n",
    "\n",
    "Below, you can use `!pygmentize` to display an existing `train.py` file. Read through the code; all of your tasks are marked with `TODO` comments. \n",
    "\n",
    "**Note: If you choose to create a custom PyTorch model, you will be responsible for defining the model in the `model.py` file,** and a `predict.py` file is provided. If you choose to use Scikit-learn, you only need a `train.py` file; you may import a classifier from the `sklearn` library."
   ]
  },
  {
   "cell_type": "code",
   "execution_count": null,
   "metadata": {},
   "outputs": [],
   "source": [
    "# directory can be changed to: source_sklearn or source_pytorch\n",
    "!pygmentize source_sklearn/train.py"
   ]
  },
  {
   "cell_type": "markdown",
   "metadata": {},
   "source": [
    "### Provided code\n",
    "\n",
    "If you read the code above, you can see that the starter code includes a few things:\n",
    "* Model loading (`model_fn`) and saving code\n",
    "* Getting SageMaker's default hyperparameters\n",
    "* Loading the training data by name, `train.csv` and extracting the features and labels, `train_x`, and `train_y`\n",
    "\n",
    "If you'd like to read more about model saving with [joblib for sklearn](https://scikit-learn.org/stable/modules/model_persistence.html) or with [torch.save](https://pytorch.org/tutorials/beginner/saving_loading_models.html), click on the provided links."
   ]
  },
  {
   "cell_type": "markdown",
   "metadata": {},
   "source": [
    "---\n",
    "# Create an Estimator\n",
    "\n",
    "When a custom model is constructed in SageMaker, an entry point must be specified. This is the Python file which will be executed when the model is trained; the `train.py` function you specified above. To run a custom training script in SageMaker, construct an estimator, and fill in the appropriate constructor arguments:\n",
    "\n",
    "* **entry_point**: The path to the Python script SageMaker runs for training and prediction.\n",
    "* **source_dir**: The path to the training script directory `source_sklearn` OR `source_pytorch`.\n",
    "* **entry_point**: The path to the Python script SageMaker runs for training and prediction.\n",
    "* **source_dir**: The path to the training script directory `train_sklearn` OR `train_pytorch`.\n",
    "* **entry_point**: The path to the Python script SageMaker runs for training.\n",
    "* **source_dir**: The path to the training script directory `train_sklearn` OR `train_pytorch`.\n",
    "* **role**: Role ARN, which was specified, above.\n",
    "* **train_instance_count**: The number of training instances (should be left at 1).\n",
    "* **train_instance_type**: The type of SageMaker instance for training. Note: Because Scikit-learn does not natively support GPU training, Sagemaker Scikit-learn does not currently support training on GPU instance types.\n",
    "* **sagemaker_session**: The session used to train on Sagemaker.\n",
    "* **hyperparameters** (optional): A dictionary `{'name':value, ..}` passed to the train function as hyperparameters.\n",
    "\n",
    "Note: For a PyTorch model, there is another optional argument **framework_version**, which you can set to the latest version of PyTorch, `1.0`.\n",
    "\n",
    "## EXERCISE: Define a Scikit-learn or PyTorch estimator\n",
    "\n",
    "To import your desired estimator, use one of the following lines:\n",
    "```\n",
    "from sagemaker.sklearn.estimator import SKLearn\n",
    "```\n",
    "```\n",
    "from sagemaker.pytorch import PyTorch\n",
    "```"
   ]
  },
  {
   "cell_type": "code",
   "execution_count": 5,
   "metadata": {},
   "outputs": [],
   "source": [
    "from sagemaker.pytorch import PyTorch\n",
    "\n",
    "output_path = 's3://{}/{}'.format(bucket, prefix)\n",
    "\n",
    "Binaryclassifier = PyTorch(entry_point='train.py',\n",
    "                           source_dir='source_pytorch',\n",
    "                           role=role,\n",
    "                           train_instance_count=1,\n",
    "                           train_instance_type='ml.c4.xlarge',\n",
    "                           framework_version='1.5.0',\n",
    "                           output_path=output_path,\n",
    "                           hyperparameters={'epochs':40, 'hidden_dim': 50})\n"
   ]
  },
  {
   "cell_type": "markdown",
   "metadata": {},
   "source": [
    "## EXERCISE: Train the estimator\n",
    "\n",
    "Train your estimator on the training data stored in S3. This should create a training job that you can monitor in your SageMaker console."
   ]
  },
  {
   "cell_type": "code",
   "execution_count": 6,
   "metadata": {
    "scrolled": true
   },
   "outputs": [
    {
     "name": "stderr",
     "output_type": "stream",
     "text": [
      "'create_image_uri' will be deprecated in favor of 'ImageURIProvider' class in SageMaker Python SDK v2.\n",
      "'s3_input' class will be renamed to 'TrainingInput' in SageMaker Python SDK v2.\n",
      "'create_image_uri' will be deprecated in favor of 'ImageURIProvider' class in SageMaker Python SDK v2.\n"
     ]
    },
    {
     "name": "stdout",
     "output_type": "stream",
     "text": [
      "2020-06-24 17:20:13 Starting - Starting the training job...\n",
      "2020-06-24 17:20:17 Starting - Launching requested ML instances.........\n",
      "2020-06-24 17:21:49 Starting - Preparing the instances for training...\n",
      "2020-06-24 17:22:41 Downloading - Downloading input data......\n",
      "2020-06-24 17:23:34 Training - Training image download completed. Training in progress.\u001b[34mbash: cannot set terminal process group (-1): Inappropriate ioctl for device\u001b[0m\n",
      "\u001b[34mbash: no job control in this shell\u001b[0m\n",
      "\u001b[34m2020-06-24 17:23:35,726 sagemaker-containers INFO     Imported framework sagemaker_pytorch_container.training\u001b[0m\n",
      "\u001b[34m2020-06-24 17:23:35,729 sagemaker-containers INFO     No GPUs detected (normal if no gpus installed)\u001b[0m\n",
      "\u001b[34m2020-06-24 17:23:35,740 sagemaker_pytorch_container.training INFO     Block until all host DNS lookups succeed.\u001b[0m\n",
      "\u001b[34m2020-06-24 17:23:38,755 sagemaker_pytorch_container.training INFO     Invoking user training script.\u001b[0m\n",
      "\u001b[34m2020-06-24 17:23:39,130 sagemaker-containers INFO     Module default_user_module_name does not provide a setup.py. \u001b[0m\n",
      "\u001b[34mGenerating setup.py\u001b[0m\n",
      "\u001b[34m2020-06-24 17:23:39,130 sagemaker-containers INFO     Generating setup.cfg\u001b[0m\n",
      "\u001b[34m2020-06-24 17:23:39,130 sagemaker-containers INFO     Generating MANIFEST.in\u001b[0m\n",
      "\u001b[34m2020-06-24 17:23:39,130 sagemaker-containers INFO     Installing module with the following command:\u001b[0m\n",
      "\u001b[34m/opt/conda/bin/python -m pip install . \u001b[0m\n",
      "\u001b[34mProcessing /tmp/tmpl7i7772u/module_dir\u001b[0m\n",
      "\u001b[34mBuilding wheels for collected packages: default-user-module-name\n",
      "  Building wheel for default-user-module-name (setup.py): started\u001b[0m\n",
      "\u001b[34m  Building wheel for default-user-module-name (setup.py): finished with status 'done'\n",
      "  Created wheel for default-user-module-name: filename=default_user_module_name-1.0.0-py2.py3-none-any.whl size=11526 sha256=37aab77836cb82e0a1aca7a1329eaf51d1685db44fc6fd7b3561df017475c901\n",
      "  Stored in directory: /tmp/pip-ephem-wheel-cache-g4eys7v9/wheels/2e/e0/a8/b2c9932bbb3bf44888d5aad81d05251b92e8b2f7a0baaae33a\u001b[0m\n",
      "\u001b[34mSuccessfully built default-user-module-name\u001b[0m\n",
      "\u001b[34mInstalling collected packages: default-user-module-name\u001b[0m\n",
      "\u001b[34mSuccessfully installed default-user-module-name-1.0.0\u001b[0m\n",
      "\u001b[34mWARNING: You are using pip version 20.1; however, version 20.1.1 is available.\u001b[0m\n",
      "\u001b[34mYou should consider upgrading via the '/opt/conda/bin/python -m pip install --upgrade pip' command.\u001b[0m\n",
      "\u001b[34m2020-06-24 17:23:41,283 sagemaker-containers INFO     No GPUs detected (normal if no gpus installed)\u001b[0m\n",
      "\u001b[34m2020-06-24 17:23:41,297 sagemaker-containers INFO     No GPUs detected (normal if no gpus installed)\u001b[0m\n",
      "\u001b[34m2020-06-24 17:23:41,310 sagemaker-containers INFO     No GPUs detected (normal if no gpus installed)\u001b[0m\n",
      "\u001b[34m2020-06-24 17:23:41,322 sagemaker-containers INFO     Invoking user script\n",
      "\u001b[0m\n",
      "\u001b[34mTraining Env:\n",
      "\u001b[0m\n",
      "\u001b[34m{\n",
      "    \"additional_framework_parameters\": {},\n",
      "    \"channel_input_dirs\": {\n",
      "        \"train\": \"/opt/ml/input/data/train\"\n",
      "    },\n",
      "    \"current_host\": \"algo-1\",\n",
      "    \"framework_module\": \"sagemaker_pytorch_container.training:main\",\n",
      "    \"hosts\": [\n",
      "        \"algo-1\"\n",
      "    ],\n",
      "    \"hyperparameters\": {\n",
      "        \"hidden_dim\": 50,\n",
      "        \"epochs\": 40\n",
      "    },\n",
      "    \"input_config_dir\": \"/opt/ml/input/config\",\n",
      "    \"input_data_config\": {\n",
      "        \"train\": {\n",
      "            \"TrainingInputMode\": \"File\",\n",
      "            \"S3DistributionType\": \"FullyReplicated\",\n",
      "            \"RecordWrapperType\": \"None\"\n",
      "        }\n",
      "    },\n",
      "    \"input_dir\": \"/opt/ml/input\",\n",
      "    \"is_master\": true,\n",
      "    \"job_name\": \"pytorch-training-2020-06-24-17-20-13-297\",\n",
      "    \"log_level\": 20,\n",
      "    \"master_hostname\": \"algo-1\",\n",
      "    \"model_dir\": \"/opt/ml/model\",\n",
      "    \"module_dir\": \"s3://sagemaker-us-east-2-278383315865/pytorch-training-2020-06-24-17-20-13-297/source/sourcedir.tar.gz\",\n",
      "    \"module_name\": \"train\",\n",
      "    \"network_interface_name\": \"eth0\",\n",
      "    \"num_cpus\": 4,\n",
      "    \"num_gpus\": 0,\n",
      "    \"output_data_dir\": \"/opt/ml/output/data\",\n",
      "    \"output_dir\": \"/opt/ml/output\",\n",
      "    \"output_intermediate_dir\": \"/opt/ml/output/intermediate\",\n",
      "    \"resource_config\": {\n",
      "        \"current_host\": \"algo-1\",\n",
      "        \"hosts\": [\n",
      "            \"algo-1\"\n",
      "        ],\n",
      "        \"network_interface_name\": \"eth0\"\n",
      "    },\n",
      "    \"user_entry_point\": \"train.py\"\u001b[0m\n",
      "\u001b[34m}\n",
      "\u001b[0m\n",
      "\u001b[34mEnvironment variables:\n",
      "\u001b[0m\n",
      "\u001b[34mSM_HOSTS=[\"algo-1\"]\u001b[0m\n",
      "\u001b[34mSM_NETWORK_INTERFACE_NAME=eth0\u001b[0m\n",
      "\u001b[34mSM_HPS={\"epochs\":40,\"hidden_dim\":50}\u001b[0m\n",
      "\u001b[34mSM_USER_ENTRY_POINT=train.py\u001b[0m\n",
      "\u001b[34mSM_FRAMEWORK_PARAMS={}\u001b[0m\n",
      "\u001b[34mSM_RESOURCE_CONFIG={\"current_host\":\"algo-1\",\"hosts\":[\"algo-1\"],\"network_interface_name\":\"eth0\"}\u001b[0m\n",
      "\u001b[34mSM_INPUT_DATA_CONFIG={\"train\":{\"RecordWrapperType\":\"None\",\"S3DistributionType\":\"FullyReplicated\",\"TrainingInputMode\":\"File\"}}\u001b[0m\n",
      "\u001b[34mSM_OUTPUT_DATA_DIR=/opt/ml/output/data\u001b[0m\n",
      "\u001b[34mSM_CHANNELS=[\"train\"]\u001b[0m\n",
      "\u001b[34mSM_CURRENT_HOST=algo-1\u001b[0m\n",
      "\u001b[34mSM_MODULE_NAME=train\u001b[0m\n",
      "\u001b[34mSM_LOG_LEVEL=20\u001b[0m\n",
      "\u001b[34mSM_FRAMEWORK_MODULE=sagemaker_pytorch_container.training:main\u001b[0m\n",
      "\u001b[34mSM_INPUT_DIR=/opt/ml/input\u001b[0m\n",
      "\u001b[34mSM_INPUT_CONFIG_DIR=/opt/ml/input/config\u001b[0m\n",
      "\u001b[34mSM_OUTPUT_DIR=/opt/ml/output\u001b[0m\n",
      "\u001b[34mSM_NUM_CPUS=4\u001b[0m\n",
      "\u001b[34mSM_NUM_GPUS=0\u001b[0m\n",
      "\u001b[34mSM_MODEL_DIR=/opt/ml/model\u001b[0m\n",
      "\u001b[34mSM_MODULE_DIR=s3://sagemaker-us-east-2-278383315865/pytorch-training-2020-06-24-17-20-13-297/source/sourcedir.tar.gz\u001b[0m\n",
      "\u001b[34mSM_TRAINING_ENV={\"additional_framework_parameters\":{},\"channel_input_dirs\":{\"train\":\"/opt/ml/input/data/train\"},\"current_host\":\"algo-1\",\"framework_module\":\"sagemaker_pytorch_container.training:main\",\"hosts\":[\"algo-1\"],\"hyperparameters\":{\"epochs\":40,\"hidden_dim\":50},\"input_config_dir\":\"/opt/ml/input/config\",\"input_data_config\":{\"train\":{\"RecordWrapperType\":\"None\",\"S3DistributionType\":\"FullyReplicated\",\"TrainingInputMode\":\"File\"}},\"input_dir\":\"/opt/ml/input\",\"is_master\":true,\"job_name\":\"pytorch-training-2020-06-24-17-20-13-297\",\"log_level\":20,\"master_hostname\":\"algo-1\",\"model_dir\":\"/opt/ml/model\",\"module_dir\":\"s3://sagemaker-us-east-2-278383315865/pytorch-training-2020-06-24-17-20-13-297/source/sourcedir.tar.gz\",\"module_name\":\"train\",\"network_interface_name\":\"eth0\",\"num_cpus\":4,\"num_gpus\":0,\"output_data_dir\":\"/opt/ml/output/data\",\"output_dir\":\"/opt/ml/output\",\"output_intermediate_dir\":\"/opt/ml/output/intermediate\",\"resource_config\":{\"current_host\":\"algo-1\",\"hosts\":[\"algo-1\"],\"network_interface_name\":\"eth0\"},\"user_entry_point\":\"train.py\"}\u001b[0m\n",
      "\u001b[34mSM_USER_ARGS=[\"--epochs\",\"40\",\"--hidden_dim\",\"50\"]\u001b[0m\n",
      "\u001b[34mSM_OUTPUT_INTERMEDIATE_DIR=/opt/ml/output/intermediate\u001b[0m\n",
      "\u001b[34mSM_CHANNEL_TRAIN=/opt/ml/input/data/train\u001b[0m\n",
      "\u001b[34mSM_HP_HIDDEN_DIM=50\u001b[0m\n",
      "\u001b[34mSM_HP_EPOCHS=40\u001b[0m\n",
      "\u001b[34mPYTHONPATH=/opt/ml/code:/opt/conda/bin:/opt/conda/lib/python36.zip:/opt/conda/lib/python3.6:/opt/conda/lib/python3.6/lib-dynload:/opt/conda/lib/python3.6/site-packages\n",
      "\u001b[0m\n",
      "\u001b[34mInvoking script with the following command:\n",
      "\u001b[0m\n",
      "\u001b[34m/opt/conda/bin/python train.py --epochs 40 --hidden_dim 50\n",
      "\n",
      "\u001b[0m\n",
      "\u001b[34mUsing device cpu.\u001b[0m\n",
      "\u001b[34mGet train data loader.\u001b[0m\n",
      "\u001b[34m[2020-06-24 17:23:44.037 algo-1:44 INFO json_config.py:90] Creating hook from json_config at /opt/ml/input/config/debughookconfig.json.\u001b[0m\n",
      "\u001b[34m[2020-06-24 17:23:44.037 algo-1:44 INFO hook.py:183] tensorboard_dir has not been set for the hook. SMDebug will not be exporting tensorboard summaries.\u001b[0m\n",
      "\u001b[34m[2020-06-24 17:23:44.037 algo-1:44 INFO hook.py:228] Saving to /opt/ml/output/tensors\u001b[0m\n",
      "\u001b[34m[2020-06-24 17:23:44.038 algo-1:44 INFO hook.py:364] Monitoring the collections: losses\u001b[0m\n",
      "\u001b[34m[2020-06-24 17:23:44.038 algo-1:44 INFO hook.py:422] Hook is writing from the hook with pid: 44\n",
      "\u001b[0m\n",
      "\u001b[34mEpoch: 1, Loss: 0.6444629686219352\u001b[0m\n",
      "\u001b[34mEpoch: 2, Loss: 0.5537931067602975\u001b[0m\n",
      "\u001b[34mEpoch: 3, Loss: 0.4515072064740317\u001b[0m\n",
      "\u001b[34mEpoch: 4, Loss: 0.3551024602992194\u001b[0m\n",
      "\u001b[34mEpoch: 5, Loss: 0.31422632932662964\u001b[0m\n",
      "\u001b[34mEpoch: 6, Loss: 0.27472768085343496\u001b[0m\n",
      "\u001b[34mEpoch: 7, Loss: 0.21945418417453766\u001b[0m\n",
      "\u001b[34mEpoch: 8, Loss: 0.23281735075371607\u001b[0m\n",
      "\u001b[34mEpoch: 9, Loss: 0.21437788754701614\u001b[0m\n",
      "\u001b[34mEpoch: 10, Loss: 0.266049861907959\u001b[0m\n",
      "\u001b[34mEpoch: 11, Loss: 0.20697250376854623\u001b[0m\n",
      "\u001b[34mEpoch: 12, Loss: 0.21689671969839505\u001b[0m\n",
      "\u001b[34mEpoch: 13, Loss: 0.23457457444497518\u001b[0m\n",
      "\u001b[34mEpoch: 14, Loss: 0.23947634654385702\u001b[0m\n",
      "\u001b[34mEpoch: 15, Loss: 0.23504089351211274\u001b[0m\n",
      "\u001b[34mEpoch: 16, Loss: 0.19024795293807983\u001b[0m\n",
      "\u001b[34mEpoch: 17, Loss: 0.22123395758015768\u001b[0m\n",
      "\u001b[34mEpoch: 18, Loss: 0.19074535902057374\u001b[0m\n",
      "\u001b[34mEpoch: 19, Loss: 0.2376728824206761\u001b[0m\n",
      "\u001b[34mEpoch: 20, Loss: 0.23576285264321736\u001b[0m\n",
      "\u001b[34mEpoch: 21, Loss: 0.2028208981667246\u001b[0m\n",
      "\u001b[34mEpoch: 22, Loss: 0.17110234339322364\u001b[0m\n",
      "\u001b[34mEpoch: 23, Loss: 0.2150118952350957\u001b[0m\n",
      "\u001b[34mEpoch: 24, Loss: 0.2140489114182336\u001b[0m\n",
      "\u001b[34mEpoch: 25, Loss: 0.2054770261581455\u001b[0m\n",
      "\u001b[34mEpoch: 26, Loss: 0.1810869798064232\u001b[0m\n",
      "\u001b[34mEpoch: 27, Loss: 0.21116839881454194\u001b[0m\n",
      "\u001b[34mEpoch: 28, Loss: 0.2288406789302826\u001b[0m\n",
      "\u001b[34mEpoch: 29, Loss: 0.17436575144529343\u001b[0m\n",
      "\u001b[34mEpoch: 30, Loss: 0.20139252500874655\u001b[0m\n",
      "\u001b[34mEpoch: 31, Loss: 0.18128886446356773\u001b[0m\n",
      "\u001b[34mEpoch: 32, Loss: 0.1905897930264473\u001b[0m\n",
      "\u001b[34mEpoch: 33, Loss: 0.18303260978843486\u001b[0m\n",
      "\u001b[34mEpoch: 34, Loss: 0.21377103616084372\u001b[0m\n",
      "\u001b[34mEpoch: 35, Loss: 0.22333783975669316\u001b[0m\n",
      "\u001b[34mEpoch: 36, Loss: 0.1867739281484059\u001b[0m\n",
      "\u001b[34mEpoch: 37, Loss: 0.1695191522261926\u001b[0m\n",
      "\u001b[34mEpoch: 38, Loss: 0.17361196928790637\u001b[0m\n",
      "\u001b[34mEpoch: 39, Loss: 0.20832237867372377\u001b[0m\n",
      "\u001b[34mEpoch: 40, Loss: 0.19921043355550086\u001b[0m\n",
      "\u001b[34m[2020-06-24 17:23:44.620 algo-1:44 INFO utils.py:25] The end of training job file will not be written for jobs running under SageMaker.\u001b[0m\n",
      "\u001b[34m2020-06-24 17:23:44,808 sagemaker-containers INFO     Reporting training SUCCESS\u001b[0m\n"
     ]
    },
    {
     "name": "stdout",
     "output_type": "stream",
     "text": [
      "\n",
      "2020-06-24 17:23:57 Uploading - Uploading generated training model\n",
      "2020-06-24 17:23:57 Completed - Training job completed\n",
      "Training seconds: 76\n",
      "Billable seconds: 76\n",
      "CPU times: user 574 ms, sys: 22.1 ms, total: 596 ms\n",
      "Wall time: 4min 12s\n"
     ]
    }
   ],
   "source": [
    "%%time\n",
    "\n",
    "Binaryclassifier.fit({'train' : 's3://{}/{}/train.csv'.format(bucket, prefix)})\n",
    "\n"
   ]
  },
  {
   "cell_type": "markdown",
   "metadata": {},
   "source": [
    "## EXERCISE: Deploy the trained model\n",
    "\n",
    "After training, deploy your model to create a `predictor`. If you're using a PyTorch model, you'll need to create a trained `PyTorchModel` that accepts the trained `<model>.model_data` as an input parameter and points to the provided `source_pytorch/predict.py` file as an entry point. \n",
    "\n",
    "To deploy a trained model, you'll use `<model>.deploy`, which takes in two arguments:\n",
    "* **initial_instance_count**: The number of deployed instances (1).\n",
    "* **instance_type**: The type of SageMaker instance for deployment.\n",
    "\n",
    "Note: If you run into an instance error, it may be because you chose the wrong training or deployment instance_type. It may help to refer to your previous exercise code to see which types of instances we used."
   ]
  },
  {
   "cell_type": "code",
   "execution_count": 7,
   "metadata": {},
   "outputs": [
    {
     "name": "stderr",
     "output_type": "stream",
     "text": [
      "Parameter image will be renamed to image_uri in SageMaker Python SDK v2.\n",
      "'create_image_uri' will be deprecated in favor of 'ImageURIProvider' class in SageMaker Python SDK v2.\n"
     ]
    },
    {
     "name": "stdout",
     "output_type": "stream",
     "text": [
      "-----------------!CPU times: user 479 ms, sys: 21 ms, total: 500 ms\n",
      "Wall time: 8min 32s\n"
     ]
    }
   ],
   "source": [
    "%%time\n",
    "\n",
    "from sagemaker.pytorch import PyTorchModel\n",
    "\n",
    "\n",
    "# deploy your model to create a predictor\n",
    "model = PyTorchModel(model_data=Binaryclassifier.model_data,\n",
    "                         role=role,\n",
    "                         entry_point='predict.py',\n",
    "                         source_dir='source_pytorch',\n",
    "                         framework_version='1.5.0')\n",
    "                         \n",
    "predictor = model.deploy(initial_instance_count=1,\n",
    "                 instance_type='ml.t2.medium')"
   ]
  },
  {
   "cell_type": "markdown",
   "metadata": {},
   "source": [
    "---\n",
    "# Evaluating Your Model\n",
    "\n",
    "Once your model is deployed, you can see how it performs when applied to our test data.\n",
    "\n",
    "The provided cell below, reads in the test data, assuming it is stored locally in `data_dir` and named `test.csv`. The labels and features are extracted from the `.csv` file."
   ]
  },
  {
   "cell_type": "code",
   "execution_count": 8,
   "metadata": {},
   "outputs": [],
   "source": [
    "\"\"\"\n",
    "DON'T MODIFY ANYTHING IN THIS CELL THAT IS BELOW THIS LINE\n",
    "\"\"\"\n",
    "import os\n",
    "\n",
    "# read in test data, assuming it is stored locally\n",
    "test_data = pd.read_csv(os.path.join(data_dir, \"test.csv\"), header=None, names=None)\n",
    "\n",
    "# labels are in the first column\n",
    "test_y = test_data.iloc[:,0]\n",
    "test_x = test_data.iloc[:,1:]"
   ]
  },
  {
   "cell_type": "markdown",
   "metadata": {},
   "source": [
    "## EXERCISE: Determine the accuracy of your model\n",
    "\n",
    "Use your deployed `predictor` to generate predicted, class labels for the test data. Compare those to the *true* labels, `test_y`, and calculate the accuracy as a value between 0 and 1.0 that indicates the fraction of test data that your model classified correctly. You may use [sklearn.metrics](https://scikit-learn.org/stable/modules/classes.html#module-sklearn.metrics) for this calculation.\n",
    "\n",
    "**To pass this project, your model should get at least 90% test accuracy.**"
   ]
  },
  {
   "cell_type": "code",
   "execution_count": 11,
   "metadata": {},
   "outputs": [
    {
     "name": "stdout",
     "output_type": "stream",
     "text": [
      "Test passed!\n"
     ]
    }
   ],
   "source": [
    "# First: generate predicted, class labels\n",
    "test_y_preds = predictor.predict(test_x)\n",
    "\n",
    "\n",
    "\"\"\"\n",
    "DON'T MODIFY ANYTHING IN THIS CELL THAT IS BELOW THIS LINE\n",
    "\"\"\"\n",
    "# test that your model generates the correct number of labels\n",
    "assert len(test_y_preds)==len(test_y), 'Unexpected number of predictions.'\n",
    "print('Test passed!')"
   ]
  },
  {
   "cell_type": "code",
   "execution_count": 12,
   "metadata": {},
   "outputs": [
    {
     "name": "stdout",
     "output_type": "stream",
     "text": [
      "1.0\n",
      "\n",
      "Predicted class labels: \n",
      "[[1.]\n",
      " [1.]\n",
      " [1.]\n",
      " [1.]\n",
      " [1.]\n",
      " [1.]\n",
      " [0.]\n",
      " [0.]\n",
      " [0.]\n",
      " [0.]\n",
      " [0.]\n",
      " [0.]\n",
      " [1.]\n",
      " [1.]\n",
      " [1.]\n",
      " [1.]\n",
      " [1.]\n",
      " [1.]\n",
      " [0.]\n",
      " [1.]\n",
      " [0.]\n",
      " [1.]\n",
      " [1.]\n",
      " [0.]\n",
      " [0.]]\n",
      "\n",
      "True class labels: \n",
      "[1 1 1 1 1 1 0 0 0 0 0 0 1 1 1 1 1 1 0 1 0 1 1 0 0]\n"
     ]
    }
   ],
   "source": [
    "from sklearn.metrics import accuracy_score\n",
    "# Second: calculate the test accuracy\n",
    "accuracy = accuracy_score(test_y, test_y_preds)\n",
    "\n",
    "print(accuracy)\n",
    "\n",
    "\n",
    "## print out the array of predicted and true labels, if you want\n",
    "print('\\nPredicted class labels: ')\n",
    "print(test_y_preds)\n",
    "print('\\nTrue class labels: ')\n",
    "print(test_y.values)"
   ]
  },
  {
   "cell_type": "markdown",
   "metadata": {},
   "source": [
    "### Question 1: How many false positives and false negatives did your model produce, if any? And why do you think this is?"
   ]
  },
  {
   "cell_type": "markdown",
   "metadata": {},
   "source": [
    "** Answer**: \n",
    "The model appears to have not produced any false positives or negatives. I was surprised by that, but I guess given the relatively small size of the test data that is definitely not impossible. I think it probably comes down to choosing the right features in picking 1-gram and 6-grams, which were distinct from one another and able to capture a variety of types of plagiarism. The learning rate i selected also seemed to be able to reach a stable minimum in the loss function fairly quickly. "
   ]
  },
  {
   "cell_type": "markdown",
   "metadata": {},
   "source": [
    "### Question 2: How did you decide on the type of model to use? "
   ]
  },
  {
   "cell_type": "markdown",
   "metadata": {},
   "source": [
    "** Answer**: \n",
    "I probably should have started with something like a logistic regression and built up, rather than start with a deep neural network, but I kind of just wanted to experiment a bit more with Pytorch. While the neural network was likly overkill, it seemed well suited to drawing relationships between the features and plagiarism instances.\n"
   ]
  },
  {
   "cell_type": "markdown",
   "metadata": {},
   "source": [
    "----\n",
    "## EXERCISE: Clean up Resources\n",
    "\n",
    "After you're done evaluating your model, **delete your model endpoint**. You can do this with a call to `.delete_endpoint()`. You need to show, in this notebook, that the endpoint was deleted. Any other resources, you may delete from the AWS console, and you will find more instructions on cleaning up all your resources, below."
   ]
  },
  {
   "cell_type": "code",
   "execution_count": 13,
   "metadata": {},
   "outputs": [],
   "source": [
    "predictor.delete_endpoint()\n"
   ]
  },
  {
   "cell_type": "markdown",
   "metadata": {},
   "source": [
    "### Deleting S3 bucket\n",
    "\n",
    "When you are *completely* done with training and testing models, you can also delete your entire S3 bucket. If you do this before you are done training your model, you'll have to recreate your S3 bucket and upload your training data again."
   ]
  },
  {
   "cell_type": "code",
   "execution_count": 14,
   "metadata": {},
   "outputs": [
    {
     "data": {
      "text/plain": [
       "[{'ResponseMetadata': {'RequestId': '2002DB9F6152A469',\n",
       "   'HostId': 'dJGg51HvuJiHUgTgziXbd4MY7Z7c8xNPxwvK1nrWEirRgOn3tIvXBzX4jbsweSpRajHfMbxjPJg=',\n",
       "   'HTTPStatusCode': 200,\n",
       "   'HTTPHeaders': {'x-amz-id-2': 'dJGg51HvuJiHUgTgziXbd4MY7Z7c8xNPxwvK1nrWEirRgOn3tIvXBzX4jbsweSpRajHfMbxjPJg=',\n",
       "    'x-amz-request-id': '2002DB9F6152A469',\n",
       "    'date': 'Wed, 24 Jun 2020 18:01:46 GMT',\n",
       "    'connection': 'close',\n",
       "    'content-type': 'application/xml',\n",
       "    'transfer-encoding': 'chunked',\n",
       "    'server': 'AmazonS3'},\n",
       "   'RetryAttempts': 0},\n",
       "  'Deleted': [{'Key': 'plagiarism_classification_project/pytorch-training-2020-06-24-17-20-13-297/debug-output/events/000000000000/000000000000_worker_0.tfevents'},\n",
       "   {'Key': 'plagiarism_classification_project/pytorch-training-2020-06-24-17-05-08-071/output/model.tar.gz'},\n",
       "   {'Key': 'pytorch-inference-2020-06-24-16-40-46-098/model.tar.gz'},\n",
       "   {'Key': 'pytorch-training-2020-06-24-17-20-13-297/source/sourcedir.tar.gz'},\n",
       "   {'Key': 'pytorch-training-2020-06-24-00-12-42-312/source/sourcedir.tar.gz'},\n",
       "   {'Key': 'plagiarism_classification_project/pytorch-training-2020-06-24-17-20-13-297/debug-output/claim.smd'},\n",
       "   {'Key': 'pytorch-training-2020-06-24-17-05-08-071/source/sourcedir.tar.gz'},\n",
       "   {'Key': 'pytorch-training-2020-06-23-23-58-52-947/source/sourcedir.tar.gz'},\n",
       "   {'Key': 'plagiarism_classification_project/test.csv'},\n",
       "   {'Key': 'pytorch-training-2020-06-24-00-07-59-931/debug-output/events/000000000000/000000000000_worker_0.tfevents'},\n",
       "   {'Key': 'pytorch-training-2020-06-24-00-07-59-931/debug-output/training_job_end.ts'},\n",
       "   {'Key': 'plagiarism_classification_project/pytorch-training-2020-06-24-17-05-08-071/debug-output/claim.smd'},\n",
       "   {'Key': 'pytorch-training-2020-06-24-00-07-59-931/debug-output/index/000000000/000000000000_worker_0.json'},\n",
       "   {'Key': 'pytorch-training-2020-06-24-00-07-59-931/output/model.tar.gz'},\n",
       "   {'Key': 'plagiarism_classification_project/pytorch-training-2020-06-24-17-05-08-071/debug-output/collections/000000000/worker_0_collections.json'},\n",
       "   {'Key': 'pytorch-inference-2020-06-24-17-09-45-730/model.tar.gz'},\n",
       "   {'Key': 'pytorch-inference-2020-06-24-17-25-53-775/model.tar.gz'},\n",
       "   {'Key': 'plagiarism_classification_project/pytorch-training-2020-06-24-17-20-13-297/debug-output/index/000000000/000000000000_worker_0.json'},\n",
       "   {'Key': 'plagiarism_classification_project/pytorch-training-2020-06-24-17-20-13-297/output/model.tar.gz'},\n",
       "   {'Key': 'pytorch-training-2020-06-24-00-07-59-931/debug-output/events/000000000500/000000000500_worker_0.tfevents'},\n",
       "   {'Key': 'plagiarism_classification_project/train.csv'},\n",
       "   {'Key': 'plagiarism_classification_project/pytorch-training-2020-06-24-17-20-13-297/debug-output/training_job_end.ts'},\n",
       "   {'Key': 'pytorch-training-2020-06-24-00-03-33-509/debug-output/collections/000000000/worker_0_collections.json'},\n",
       "   {'Key': 'pytorch-training-2020-06-24-00-03-33-509/debug-output/events/000000000000/000000000000_worker_0.tfevents'},\n",
       "   {'Key': 'pytorch-training-2020-06-24-00-07-59-931/debug-output/collections/000000000/worker_0_collections.json'},\n",
       "   {'Key': 'pytorch-training-2020-06-24-00-07-59-931/debug-output/index/000000000/000000000500_worker_0.json'},\n",
       "   {'Key': 'pytorch-training-2020-06-24-00-07-59-931/debug-output/claim.smd'},\n",
       "   {'Key': 'pytorch-training-2020-06-24-00-03-33-509/source/sourcedir.tar.gz'},\n",
       "   {'Key': 'pytorch-training-2020-06-24-16-36-09-567/source/sourcedir.tar.gz'},\n",
       "   {'Key': 'pytorch-training-2020-06-23-23-38-47-553/source/sourcedir.tar.gz'},\n",
       "   {'Key': 'plagiarism_classification_project/pytorch-training-2020-06-24-17-05-08-071/debug-output/events/000000000000/000000000000_worker_0.tfevents'},\n",
       "   {'Key': 'plagiarism_classification_project/pytorch-training-2020-06-24-17-05-08-071/debug-output/training_job_end.ts'},\n",
       "   {'Key': 'pytorch-training-2020-06-23-23-54-15-733/source/sourcedir.tar.gz'},\n",
       "   {'Key': 'pytorch-training-2020-06-24-00-07-59-931/source/sourcedir.tar.gz'},\n",
       "   {'Key': 'plagiarism_classification_project/pytorch-training-2020-06-24-17-20-13-297/debug-output/collections/000000000/worker_0_collections.json'},\n",
       "   {'Key': 'pytorch-training-2020-06-23-23-29-19-372/source/sourcedir.tar.gz'},\n",
       "   {'Key': 'pytorch-training-2020-06-23-23-46-59-991/source/sourcedir.tar.gz'},\n",
       "   {'Key': 'pytorch-training-2020-06-23-23-33-47-923/source/sourcedir.tar.gz'},\n",
       "   {'Key': 'plagiarism_classification_project/pytorch-training-2020-06-24-17-05-08-071/debug-output/index/000000000/000000000000_worker_0.json'},\n",
       "   {'Key': 'pytorch-inference-2020-06-24-00-20-59-201/model.tar.gz'},\n",
       "   {'Key': 'pytorch-inference-2020-06-24-00-20-36-997/model.tar.gz'}]}]"
      ]
     },
     "execution_count": 14,
     "metadata": {},
     "output_type": "execute_result"
    }
   ],
   "source": [
    "bucket_to_delete = boto3.resource('s3').Bucket(bucket)\n",
    "bucket_to_delete.objects.all().delete()"
   ]
  },
  {
   "cell_type": "markdown",
   "metadata": {},
   "source": [
    "### Deleting all your models and instances\n",
    "\n",
    "When you are _completely_ done with this project and do **not** ever want to revisit this notebook, you can choose to delete all of your SageMaker notebook instances and models by following [these instructions](https://docs.aws.amazon.com/sagemaker/latest/dg/ex1-cleanup.html). Before you delete this notebook instance, I recommend at least downloading a copy and saving it, locally."
   ]
  },
  {
   "cell_type": "markdown",
   "metadata": {},
   "source": [
    "---\n",
    "## Further Directions\n",
    "\n",
    "There are many ways to improve or add on to this project to expand your learning or make this more of a unique project for you. A few ideas are listed below:\n",
    "* Train a classifier to predict the *category* (1-3) of plagiarism and not just plagiarized (1) or not (0).\n",
    "* Utilize a different and larger dataset to see if this model can be extended to other types of plagiarism.\n",
    "* Use language or character-level analysis to find different (and more) similarity features.\n",
    "* Write a complete pipeline function that accepts a source text and submitted text file, and classifies the submitted text as plagiarized or not.\n",
    "* Use API Gateway and a lambda function to deploy your model to a web application.\n",
    "\n",
    "These are all just options for extending your work. If you've completed all the exercises in this notebook, you've completed a real-world application, and can proceed to submit your project. Great job!"
   ]
  }
 ],
 "metadata": {
  "kernelspec": {
   "display_name": "conda_pytorch_p36",
   "language": "python",
   "name": "conda_pytorch_p36"
  },
  "language_info": {
   "codemirror_mode": {
    "name": "ipython",
    "version": 3
   },
   "file_extension": ".py",
   "mimetype": "text/x-python",
   "name": "python",
   "nbconvert_exporter": "python",
   "pygments_lexer": "ipython3",
   "version": "3.6.10"
  }
 },
 "nbformat": 4,
 "nbformat_minor": 2
}
